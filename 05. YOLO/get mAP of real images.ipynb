{
 "cells": [
  {
   "cell_type": "code",
   "execution_count": 1,
   "metadata": {},
   "outputs": [],
   "source": [
    "import os\n",
    "import cv2\n",
    "import time\n",
    "import numpy as np\n",
    "import pandas as pd\n",
    "import matplotlib.pyplot as plt\n",
    "\n",
    "from glob import glob\n",
    "from IPython import display\n",
    "from IPython.display import clear_output\n"
   ]
  },
  {
   "cell_type": "code",
   "execution_count": 2,
   "metadata": {},
   "outputs": [
    {
     "data": {
      "image/png": "[encoded data removed]",
      "text/plain": [
       "<Figure size 2160x360 with 1 Axes>"
      ]
     },
     "metadata": {
      "needs_background": "light"
     },
     "output_type": "display_data"
    }
   ],
   "source": [
    "fps = pd.read_csv('/home/rob/HWR/darknet/val.txt',names=['fp'])['fp'].values\n",
    "sample_size = 100\n",
    "np.random.seed(42)\n",
    "sample = np.random.choice(fps,size=sample_size)\n",
    "fig = plt.figure(figsize = (30,5))\n",
    "ax = fig.add_subplot(111)"
   ]
  },
  {
   "cell_type": "code",
   "execution_count": 33,
   "metadata": {},
   "outputs": [
    {
     "data": {
      "text/plain": [
       "array(['/home/rob/HWR/datasets/zooniverse/219414/Fake_LowRes002.jpg',\n",
       "       '/home/rob/HWR/datasets/zooniverse/221652/Fake_LowRes002.jpg',\n",
       "       '/home/rob/HWR/datasets/zooniverse/219858/Fake_LowRes002.jpg',\n",
       "       '/home/rob/HWR/datasets/zooniverse/221881/Fake_LowRes002.jpg',\n",
       "       '/home/rob/HWR/datasets/zooniverse/222919/Fake_LowRes002.jpg',\n",
       "       '/home/rob/HWR/datasets/zooniverse/219777/Fake_LowRes002.jpg',\n",
       "       '/home/rob/HWR/datasets/Aarhus/NHMA-ENT-199094-FullFaked.jpg',\n",
       "       '/home/rob/HWR/datasets/zooniverse/221602/Fake_LowRes002.jpg',\n",
       "       '/home/rob/HWR/datasets/zooniverse/220560/Fake_LowRes002.jpg',\n",
       "       '/home/rob/HWR/datasets/zooniverse/223058/Fake_LowRes002.jpg',\n",
       "       '/home/rob/HWR/datasets/zooniverse/221900/Fake_LowRes002.jpg',\n",
       "       '/home/rob/HWR/datasets/zooniverse/219657/Fake_LowRes002.jpg',\n",
       "       '/home/rob/HWR/datasets/zooniverse/222362/Fake_LowRes002.jpg',\n",
       "       '/home/rob/HWR/datasets/zooniverse/222654/Fake_LowRes002.jpg',\n",
       "       '/home/rob/HWR/datasets/zooniverse/220731/Fake_LowRes002.jpg',\n",
       "       '/home/rob/HWR/datasets/zooniverse/219736/Fake_LowRes002.jpg',\n",
       "       '/home/rob/HWR/datasets/zooniverse/223186/Fake_LowRes002.jpg',\n",
       "       '/home/rob/HWR/datasets/zooniverse/220394/Fake_LowRes002.jpg',\n",
       "       '/home/rob/HWR/datasets/zooniverse/221839/Fake_LowRes002.jpg',\n",
       "       '/home/rob/HWR/datasets/zooniverse/220214/Fake_LowRes002.jpg',\n",
       "       '/home/rob/HWR/datasets/zooniverse/220183/Fake_LowRes002.jpg',\n",
       "       '/home/rob/HWR/datasets/zooniverse/222391/Fake_LowRes002.jpg',\n",
       "       '/home/rob/HWR/datasets/Aarhus/NHMA-ENT-199139-FullFaked.jpg',\n",
       "       '/home/rob/HWR/datasets/zooniverse/219719/Fake_LowRes002.jpg',\n",
       "       '/home/rob/HWR/datasets/zooniverse/222003/Fake_LowRes002.jpg',\n",
       "       '/home/rob/HWR/datasets/zooniverse/220486/Fake_LowRes002.jpg',\n",
       "       '/home/rob/HWR/datasets/zooniverse/220168/Fake_LowRes002.jpg',\n",
       "       '/home/rob/HWR/datasets/zooniverse/222990/Fake_LowRes002.jpg',\n",
       "       '/home/rob/HWR/datasets/zooniverse/222530/Fake_LowRes002.jpg',\n",
       "       '/home/rob/HWR/datasets/zooniverse/222417/Fake_LowRes002.jpg',\n",
       "       '/home/rob/HWR/datasets/zooniverse/223224/Fake_LowRes002.jpg',\n",
       "       '/home/rob/HWR/datasets/zooniverse/223079/Fake_LowRes002.jpg',\n",
       "       '/home/rob/HWR/datasets/zooniverse/219912/Fake_LowRes002.jpg',\n",
       "       '/home/rob/HWR/datasets/zooniverse/219841/Fake_LowRes002.jpg',\n",
       "       '/home/rob/HWR/datasets/zooniverse/219912/Fake_LowRes002.jpg',\n",
       "       '/home/rob/HWR/datasets/zooniverse/221449/Fake_LowRes002.jpg',\n",
       "       '/home/rob/HWR/datasets/zooniverse/220872/Fake_LowRes002.jpg',\n",
       "       '/home/rob/HWR/datasets/zooniverse/222169/Fake_LowRes002.jpg',\n",
       "       '/home/rob/HWR/datasets/zooniverse/222973/Fake_LowRes002.jpg',\n",
       "       '/home/rob/HWR/datasets/zooniverse/219807/Fake_LowRes002.jpg',\n",
       "       '/home/rob/HWR/datasets/zooniverse/220536/Fake_LowRes002.jpg',\n",
       "       '/home/rob/HWR/datasets/zooniverse/220865/Fake_LowRes002.jpg',\n",
       "       '/home/rob/HWR/datasets/zooniverse/221732/Fake_LowRes002.jpg',\n",
       "       '/home/rob/HWR/datasets/zooniverse/221355/Fake_LowRes002.jpg',\n",
       "       '/home/rob/HWR/datasets/zooniverse/219834/Fake_LowRes002.jpg',\n",
       "       '/home/rob/HWR/datasets/zooniverse/220524/Fake_LowRes002.jpg',\n",
       "       '/home/rob/HWR/datasets/zooniverse/221073/Fake_LowRes002.jpg',\n",
       "       '/home/rob/HWR/datasets/Aarhus/NHMA-ENT-199125-FullFaked.jpg',\n",
       "       '/home/rob/HWR/datasets/zooniverse/220140/Fake_LowRes002.jpg',\n",
       "       '/home/rob/HWR/datasets/zooniverse/221641/Fake_LowRes002.jpg',\n",
       "       '/home/rob/HWR/datasets/zooniverse/221179/Fake_LowRes002.jpg',\n",
       "       '/home/rob/HWR/datasets/zooniverse/219907/Fake_LowRes002.jpg',\n",
       "       '/home/rob/HWR/datasets/zooniverse/221839/Fake_LowRes002.jpg',\n",
       "       '/home/rob/HWR/datasets/Aarhus/NHMA-ENT-199407-FullFaked.jpg',\n",
       "       '/home/rob/HWR/datasets/zooniverse/223146/Fake_LowRes002.jpg',\n",
       "       '/home/rob/HWR/datasets/zooniverse/222517/Fake_LowRes002.jpg',\n",
       "       '/home/rob/HWR/datasets/Aarhus/NHMA-ENT-199083-FullFaked.jpg',\n",
       "       '/home/rob/HWR/datasets/zooniverse/221557/Fake_LowRes002.jpg',\n",
       "       '/home/rob/HWR/datasets/zooniverse/222900/Fake_LowRes002.jpg',\n",
       "       '/home/rob/HWR/datasets/zooniverse/219763/Fake_LowRes002.jpg',\n",
       "       '/home/rob/HWR/datasets/zooniverse/219741/Fake_LowRes002.jpg',\n",
       "       '/home/rob/HWR/datasets/zooniverse/220653/Fake_LowRes002.jpg',\n",
       "       '/home/rob/HWR/datasets/zooniverse/219545/Fake_LowRes002.jpg',\n",
       "       '/home/rob/HWR/datasets/zooniverse/220500/Fake_LowRes002.jpg',\n",
       "       '/home/rob/HWR/datasets/zooniverse/220680/Fake_LowRes002.jpg',\n",
       "       '/home/rob/HWR/datasets/zooniverse/221097/Fake_LowRes002.jpg',\n",
       "       '/home/rob/HWR/datasets/Aarhus/NHMA-ENT-199030-FullFaked.jpg',\n",
       "       '/home/rob/HWR/datasets/zooniverse/221930/Fake_LowRes002.jpg',\n",
       "       '/home/rob/HWR/datasets/zooniverse/222309/Fake_LowRes002.jpg',\n",
       "       '/home/rob/HWR/datasets/zooniverse/223143/Fake_LowRes002.jpg',\n",
       "       '/home/rob/HWR/datasets/zooniverse/220517/Fake_LowRes002.jpg',\n",
       "       '/home/rob/HWR/datasets/zooniverse/222460/Fake_LowRes002.jpg',\n",
       "       '/home/rob/HWR/datasets/zooniverse/219566/Fake_LowRes002.jpg',\n",
       "       '/home/rob/HWR/datasets/zooniverse/219601/Fake_LowRes002.jpg',\n",
       "       '/home/rob/HWR/datasets/zooniverse/220708/Fake_LowRes002.jpg',\n",
       "       '/home/rob/HWR/datasets/zooniverse/222564/Fake_LowRes002.jpg',\n",
       "       '/home/rob/HWR/datasets/zooniverse/221442/Fake_LowRes002.jpg',\n",
       "       '/home/rob/HWR/datasets/zooniverse/219501/Fake_LowRes002.jpg',\n",
       "       '/home/rob/HWR/datasets/zooniverse/220482/Fake_LowRes002.jpg',\n",
       "       '/home/rob/HWR/datasets/zooniverse/219875/Fake_LowRes002.jpg',\n",
       "       '/home/rob/HWR/datasets/zooniverse/221663/Fake_LowRes002.jpg',\n",
       "       '/home/rob/HWR/datasets/zooniverse/221074/Fake_LowRes002.jpg',\n",
       "       '/home/rob/HWR/datasets/zooniverse/220386/Fake_LowRes002.jpg',\n",
       "       '/home/rob/HWR/datasets/Aarhus/NHMA-ENT-199343-FullFaked.jpg',\n",
       "       '/home/rob/HWR/datasets/zooniverse/220474/Fake_LowRes002.jpg',\n",
       "       '/home/rob/HWR/datasets/zooniverse/220043/Fake_LowRes002.jpg',\n",
       "       '/home/rob/HWR/datasets/zooniverse/222275/Fake_LowRes002.jpg',\n",
       "       '/home/rob/HWR/datasets/zooniverse/221184/Fake_LowRes002.jpg',\n",
       "       '/home/rob/HWR/datasets/zooniverse/220490/Fake_LowRes002.jpg',\n",
       "       '/home/rob/HWR/datasets/zooniverse/222028/Fake_LowRes002.jpg',\n",
       "       '/home/rob/HWR/datasets/zooniverse/221682/Fake_LowRes002.jpg',\n",
       "       '/home/rob/HWR/datasets/zooniverse/223139/Fake_LowRes002.jpg',\n",
       "       '/home/rob/HWR/datasets/zooniverse/220224/Fake_LowRes002.jpg',\n",
       "       '/home/rob/HWR/datasets/zooniverse/222682/Fake_LowRes002.jpg',\n",
       "       '/home/rob/HWR/datasets/zooniverse/220660/Fake_LowRes002.jpg',\n",
       "       '/home/rob/HWR/datasets/Aarhus/NHMA-ENT-199126-FullFaked.jpg',\n",
       "       '/home/rob/HWR/datasets/zooniverse/223086/Fake_LowRes002.jpg',\n",
       "       '/home/rob/HWR/datasets/zooniverse/221978/Fake_LowRes002.jpg',\n",
       "       '/home/rob/HWR/datasets/zooniverse/220661/Fake_LowRes002.jpg',\n",
       "       '/home/rob/HWR/datasets/zooniverse/219769/Fake_LowRes002.jpg'],\n",
       "      dtype=object)"
      ]
     },
     "execution_count": 33,
     "metadata": {},
     "output_type": "execute_result"
    }
   ],
   "source": [
    "sample"
   ]
  },
  {
   "cell_type": "code",
   "execution_count": 38,
   "metadata": {},
   "outputs": [],
   "source": [
    "out = []\n",
    "for s in sample:\n",
    "    if 'zooniverse' in s:\n",
    "        out += [s.replace('Fake_LowRes','LowRes')]\n",
    "    elif 'Aarhus' in s:\n",
    "        out += [s.replace('FullFaked','lab')]\n",
    "        break\n",
    "pd.Series(out).to_csv('/home/rob/HWR/darknet/100_darknet_test_set.txt',index=False)"
   ]
  },
  {
   "cell_type": "code",
   "execution_count": 13,
   "metadata": {},
   "outputs": [
    {
     "data": {
      "application/vnd.jupyter.widget-view+json": {
       "model_id": "c6654611b72a4cdebbecb43931c12344",
       "version_major": 2,
       "version_minor": 0
      },
      "text/plain": [
       "HBox(children=(IntProgress(value=0, max=472), HTML(value='')))"
      ]
     },
     "metadata": {},
     "output_type": "display_data"
    },
    {
     "name": "stdout",
     "output_type": "stream",
     "text": [
      "\n"
     ]
    }
   ],
   "source": [
    "import rawpy\n",
    "from tqdm import tqdm_notebook as tqdm\n",
    "fps = glob('/home/rob/HWR/datasets/Aarhus/*-lab.CR2')\n",
    "for fp in tqdm(fps):\n",
    "    with rawpy.imread(fp) as raw:\n",
    "        img = raw.postprocess(use_camera_wb=True)\n",
    "    cv2.imwrite(fp.replace('CR2','jpg'),cv2.cvtColor(img,cv2.COLOR_RGB2BGR))\n"
   ]
  },
  {
   "cell_type": "code",
   "execution_count": 20,
   "metadata": {},
   "outputs": [
    {
     "data": {
      "image/png": "[encoded data removed]",
      "text/plain": [
       "<Figure size 432x288 with 1 Axes>"
      ]
     },
     "metadata": {
      "needs_background": "light"
     },
     "output_type": "display_data"
    }
   ],
   "source": [
    "#res = []\n",
    "i=0\n",
    "for fp in tqdm(sample):\n",
    "    print(i)\n",
    "    i+=1\n",
    "    #print(fp)\n",
    "    #full = cv2.imread(fp)\n",
    "    if 'Aarhus' in fp:\n",
    "        labels = glob(fp.replace('FullFaked','lablabel*'))\n",
    "        for label in labels:\n",
    "            img= cv2.imread(label)\n",
    "            plt.title(i)\n",
    "            ax.imshow(img)\n",
    "            display.display(fig) \n",
    "            _type = input()\n",
    "            res += [[fp,label,_type]]\n",
    "            clear_output()\n",
    "    elif 'zooniverse' in fp:\n",
    "        labels = glob(fp.replace('Fake_LowRes','Label').replace('.jpg','*.jpg'))\n",
    "        for label in labels:\n",
    "            img = cv2.imread(label)\n",
    "            ax.imshow(img)\n",
    "            plt.title(i)\n",
    "            display.display(fig) \n",
    "            _type = input()\n",
    "            res += [[fp,label,_type]]\n",
    "            clear_output()"
   ]
  },
  {
   "cell_type": "code",
   "execution_count": null,
   "metadata": {},
   "outputs": [],
   "source": []
  },
  {
   "cell_type": "code",
   "execution_count": 24,
   "metadata": {},
   "outputs": [],
   "source": [
    "df=pd.DataFrame(res,columns=['orig_fp','label_fp','_type'])\n",
    "df['type_no'] = df['_type'].map(set_type_no)\n",
    "        \n",
    "bad_fakes = df[df['type_no'].map(lambda x: np.isnan(x))]['orig_fp'].values\n",
    "df = df[df['orig_fp'].map(lambda x: x not in bad_fakes)]\n",
    "df#.to_csv('classifications.csv')"
   ]
  },
  {
   "cell_type": "code",
   "execution_count": 22,
   "metadata": {},
   "outputs": [],
   "source": [
    "def set_type_no(_type):\n",
    "    if _type == 'q':\n",
    "        return 0\n",
    "    elif _type == 'h':\n",
    "        return 1\n",
    "    elif _type == 'o':\n",
    "        return 2\n",
    "    elif _type == 'm':\n",
    "        return 3\n",
    "    else:\n",
    "        return np.nan"
   ]
  },
  {
   "cell_type": "code",
   "execution_count": null,
   "metadata": {},
   "outputs": [],
   "source": [
    "#grab 100 random of zooniverse and aarhus actual validation images \n",
    "#grab associated labels\n",
    "#assign each label a classification\n",
    "#run map"
   ]
  }
 ],
 "metadata": {
  "kernelspec": {
   "display_name": "Python 3",
   "language": "python",
   "name": "python3"
  },
  "language_info": {
   "codemirror_mode": {
    "name": "ipython",
    "version": 3
   },
   "file_extension": ".py",
   "mimetype": "text/x-python",
   "name": "python",
   "nbconvert_exporter": "python",
   "pygments_lexer": "ipython3",
   "version": "3.6.7"
  }
 },
 "nbformat": 4,
 "nbformat_minor": 2
}
