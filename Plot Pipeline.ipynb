{
 "cells": [
  {
   "cell_type": "code",
   "execution_count": null,
   "metadata": {},
   "outputs": [],
   "source": [
    "import os\n",
    "import cv2\n",
    "import time\n",
    "import numpy as np\n",
    "import pandas as pd\n",
    "import matplotlib.pyplot as plt\n",
    "\n",
    "from glob import glob\n",
    "from tqdm import tqdm#_notebook as tqdm\n"
   ]
  },
  {
   "cell_type": "code",
   "execution_count": null,
   "metadata": {},
   "outputs": [],
   "source": [
    "folder = '/home/rob/HWR/datasets/zooniverse/**/Label*00[2,4][0-9].jpg'\n",
    "fps = glob(folder)\n"
   ]
  },
  {
   "cell_type": "code",
   "execution_count": null,
   "metadata": {},
   "outputs": [],
   "source": [
    "import matplotlib.pyplot as plt\n",
    "import matplotlib.gridspec as gridspec\n",
    "\n",
    "fig=plt.figure(figsize=(20, 40))\n",
    "columns = 2\n",
    "rows = 10\n",
    "n_images = columns*rows\n",
    "\n",
    "folderGlob = '/home/rob/HWR/datasets/zooniverse/**/Label*00[2,4][0-9].jpg'\n",
    "label_fps = glob(folderGlob)\n",
    "data = [(fp.split('/')[6],fp.split('Label')[1].split('.jpg')[0][:3]) for fp in label_fps]\n",
    "\n",
    "fps = []\n",
    "for catalog_no, img_no in data:\n",
    "    fps += ['/home/rob/HWR/datasets/zooniverse/%s/Cropped%s.jpg'%(catalog_no, img_no)]\n",
    "\n",
    "\n",
    "sample = np.random.permutation(fps)#[:300])\n",
    "\n",
    "outer = gridspec.GridSpec(rows, columns, wspace=0.2, hspace=0.2)\n",
    "\n",
    "for i in tqdm(range(n_images)):\n",
    "    fp = sample[i]\n",
    "    catalog_no = fp.split('/')[6]\n",
    "    img_no = fp.split('Cropped')[1].split('.jpg')[0]\n",
    "    label_glob = '/home/rob/HWR/datasets/zooniverse/' + catalog_no +  '/Label' + img_no + '[0-9].jpg'\n",
    "    labels_fp =  glob(label_glob)\n",
    "    n_labels = len(labels_fp)\n",
    "    \n",
    "    image = gridspec.GridSpecFromSubplotSpec(1, 2,\n",
    "                    subplot_spec=outer[i], wspace=0.1, hspace=0.1)\n",
    "\n",
    "    \n",
    "    ax = plt.Subplot(fig, image[0])\n",
    "    #t = ax.text(0.5,0.5, 'outer=%d, inner=%d' % (i,j))\n",
    "    #t.set_ha('center')\n",
    "    ax.imshow(cv2.imread(fp))\n",
    "    ax.set_xticks([])\n",
    "    ax.set_yticks([])\n",
    "    ax.set_title(str(catalog_no))\n",
    "    fig.add_subplot(ax)\n",
    "    \n",
    "    labels = gridspec.GridSpecFromSubplotSpec(n_labels,1,subplot_spec=image[1],wspace=0,hspace=0)\n",
    "    \n",
    "    for j in range(n_labels):\n",
    "        ax = plt.Subplot(fig, labels[j])\n",
    "        #t = ax.text(0.5,0.5, 'outer=%d, inner=%d' % (i,j))\n",
    "        #t.set_ha('center')\n",
    "        ax.imshow(cv2.imread(labels_fp[j]))\n",
    "        ax.set_xticks([])\n",
    "        ax.set_yticks([])\n",
    "        fig.add_subplot(ax)\n",
    "\n",
    "fig.show()"
   ]
  }
 ],
 "metadata": {
  "kernelspec": {
   "display_name": "Python 3",
   "language": "python",
   "name": "python3"
  },
  "language_info": {
   "codemirror_mode": {
    "name": "ipython",
    "version": 3
   },
   "file_extension": ".py",
   "mimetype": "text/x-python",
   "name": "python",
   "nbconvert_exporter": "python",
   "pygments_lexer": "ipython3",
   "version": "3.6.7"
  }
 },
 "nbformat": 4,
 "nbformat_minor": 2
}
