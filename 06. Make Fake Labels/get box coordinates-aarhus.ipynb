{
 "cells": [
  {
   "cell_type": "code",
   "execution_count": 7,
   "metadata": {},
   "outputs": [],
   "source": [
    "import os\n",
    "import cv2\n",
    "import time\n",
    "import imutils\n",
    "import numpy as np\n",
    "import pandas as pd\n",
    "import matplotlib.pyplot as plt\n",
    "\n",
    "from glob import glob\n",
    "from tqdm import tqdm#_notebook as tqdm\n",
    "from pyzbar import pyzbar"
   ]
  },
  {
   "cell_type": "code",
   "execution_count": null,
   "metadata": {},
   "outputs": [],
   "source": []
  },
  {
   "cell_type": "code",
   "execution_count": 8,
   "metadata": {},
   "outputs": [],
   "source": [
    "def rotate_bound(image, angle, borderValue):\n",
    "    # grab the dimensions of the image and then determine the\n",
    "    # center\n",
    "    (h, w) = image.shape[:2]\n",
    "    (cX, cY) = (w / 2, h / 2)\n",
    "\n",
    "    # grab the rotation matrix (applying the negative of the\n",
    "    # angle to rotate clockwise), then grab the sine and cosine\n",
    "    # (i.e., the rotation components of the matrix)\n",
    "    M = cv2.getRotationMatrix2D((cX, cY), angle, 1.0)\n",
    "    cos = np.abs(M[0, 0])\n",
    "    sin = np.abs(M[0, 1])\n",
    "\n",
    "    # compute the new bounding dimensions of the image\n",
    "    nW = int((h * sin) + (w * cos))\n",
    "    nH = int((h * cos) + (w * sin))\n",
    "\n",
    "    # adjust the rotation matrix to take into account translation\n",
    "    M[0, 2] += (nW / 2) - cX\n",
    "    M[1, 2] += (nH / 2) - cY\n",
    "\n",
    "    # perform the actual rotation and return the image\n",
    "    return cv2.warpAffine(image, M, (nW, nH), borderValue=(borderValue,borderValue,borderValue))"
   ]
  },
  {
   "cell_type": "code",
   "execution_count": 9,
   "metadata": {},
   "outputs": [],
   "source": [
    "y_filter = np.ones((9,9))\n",
    "y_filter[:4] = -1\n",
    "y_filter[4] = 0"
   ]
  },
  {
   "cell_type": "code",
   "execution_count": 10,
   "metadata": {},
   "outputs": [],
   "source": [
    "def sobel(img, dx, dy, ksize):\n",
    "    sobelx64f = cv2.Sobel(img,cv2.CV_64F,dx,dy,ksize=ksize)\n",
    "    abs_sobel64f = np.absolute(sobelx64f)\n",
    "    return np.uint8(abs_sobel64f)"
   ]
  },
  {
   "cell_type": "code",
   "execution_count": null,
   "metadata": {},
   "outputs": [],
   "source": []
  },
  {
   "cell_type": "code",
   "execution_count": 11,
   "metadata": {},
   "outputs": [],
   "source": [
    "def get_consecutive_coords_above_threshold(sobel_xy, height, width, squ_size, threshold):\n",
    "    consecutive = 0 \n",
    "    consecutive_coords = []\n",
    "    text_coords = []\n",
    "    for j in range(height//squ_size):\n",
    "        sy = j*squ_size\n",
    "        ey = j*squ_size + squ_size\n",
    "        for i in range(width//squ_size):\n",
    "            sx = i*squ_size\n",
    "            ex = i*squ_size + squ_size\n",
    "\n",
    "            squ = sobel_xy[sy:ey,sx:ex,:]\n",
    "\n",
    "            _mean = squ.mean()\n",
    "            if _mean >= threshold:\n",
    "                consecutive += 1\n",
    "                consecutive_coords += [(sx,sy,ex,ey)]\n",
    "\n",
    "            elif consecutive >= 0:\n",
    "                if consecutive >= min_consecutive:\n",
    "                    consecutive = 0\n",
    "                    text_coords += consecutive_coords\n",
    "                else:\n",
    "                    consecutive = 0\n",
    "                    consecutive_coords = []\n",
    "\n",
    "        if consecutive >= min_consecutive:\n",
    "            text_coords += consecutive_coords\n",
    "        consecutive_coords = []\n",
    "        consecutive = 0\n",
    "    \n",
    "    return text_coords\n",
    "\n",
    "def plot_rectangles(img, rectangles, colors=False):\n",
    "    if not colors:\n",
    "        messy = img.copy()\n",
    "        for (startX, startY, endX, endY) in rectangles:\n",
    "            cv2.rectangle(messy, (startX, startY), (endX, endY), (0, 255, 0), 2)\n",
    "    \n",
    "    if colors:\n",
    "        colors = [(255,0,0),(0,255,0),(0,0,255),(255,255,0),(255,0,255),(0,255,255),(255,255,255),(100,100,100)]\n",
    "        messy = img.copy()\n",
    "        color = 0\n",
    "        for label in rectangles:\n",
    "            for (startX, startY, endX, endY) in label:\n",
    "                cv2.rectangle(messy, (startX, startY), (endX, endY), colors[color], 2)\n",
    "            color += 1\n",
    "            if color == len(colors):\n",
    "                color = 0\n",
    "    plt.figure()\n",
    "    plt.imshow(messy)\n",
    "    \n",
    "def group_squares_into_labels(coords, max_dist_btw, min_squ_per_label):\n",
    "    coords_stack = coords.copy()\n",
    "\n",
    "    labels = []\n",
    "    while len(coords_stack):\n",
    "        squ1 = coords_stack[0]\n",
    "        sx1, sy1, ex1, ey1 = squ1\n",
    "        mx1 = (sx1+ex1)/2\n",
    "        my1 = (sy1+ey1)/2\n",
    "\n",
    "        new_label = []\n",
    "        to_be_checked = [squ1]\n",
    "        coords_stack.remove(squ1)\n",
    "\n",
    "        while len(to_be_checked):\n",
    "            squ1 = to_be_checked[0]\n",
    "            sx1, sy1, ex1, ey1 = squ1\n",
    "            mx1 = (sx1+ex1)/2\n",
    "            my1 = (sy1+ey1)/2\n",
    "\n",
    "            new_label += [squ1]\n",
    "            to_be_checked.remove(squ1)\n",
    "\n",
    "            coords_stack2 = coords_stack.copy()\n",
    "            for i in range(len(coords_stack2)):\n",
    "                squ2 = coords_stack2[i]\n",
    "                sx2, sy2, ex2, ey2 = squ2\n",
    "                mx2 = (sx2+ex2)/2\n",
    "                my2 = (sy2+ey2)/2\n",
    "                dist = np.sqrt((mx1-mx2)**2 + (my1-my2)**2)\n",
    "                if dist <= max_dist_btw:\n",
    "                    to_be_checked += [squ2]\n",
    "                    coords_stack.remove(squ2)\n",
    "        if len(new_label) >= min_squ_per_label:\n",
    "            labels += [new_label]\n",
    "            \n",
    "    return labels"
   ]
  },
  {
   "cell_type": "code",
   "execution_count": 6,
   "metadata": {},
   "outputs": [
    {
     "ename": "NameError",
     "evalue": "name 'fp' is not defined",
     "output_type": "error",
     "traceback": [
      "\u001b[0;31m---------------------------------------------------------------------------\u001b[0m",
      "\u001b[0;31mNameError\u001b[0m                                 Traceback (most recent call last)",
      "\u001b[0;32m<ipython-input-6-3b46b23ea1d2>\u001b[0m in \u001b[0;36m<module>\u001b[0;34m\u001b[0m\n\u001b[0;32m----> 1\u001b[0;31m \u001b[0mfp\u001b[0m\u001b[0;34m.\u001b[0m\u001b[0msplit\u001b[0m\u001b[0;34m(\u001b[0m\u001b[0;34m'Cropped'\u001b[0m\u001b[0;34m)\u001b[0m\u001b[0;34m[\u001b[0m\u001b[0;36m1\u001b[0m\u001b[0;34m]\u001b[0m\u001b[0;34m.\u001b[0m\u001b[0msplit\u001b[0m\u001b[0;34m(\u001b[0m\u001b[0;34m'.jpg'\u001b[0m\u001b[0;34m)\u001b[0m\u001b[0;34m[\u001b[0m\u001b[0;36m0\u001b[0m\u001b[0;34m]\u001b[0m\u001b[0;34m\u001b[0m\u001b[0;34m\u001b[0m\u001b[0m\n\u001b[0m",
      "\u001b[0;31mNameError\u001b[0m: name 'fp' is not defined"
     ]
    }
   ],
   "source": [
    "fp.split('Cropped')[1].split('.jpg')[0]"
   ]
  },
  {
   "cell_type": "code",
   "execution_count": 12,
   "metadata": {
    "scrolled": true
   },
   "outputs": [
    {
     "name": "stderr",
     "output_type": "stream",
     "text": [
      " 25%|██▌       | 119/472 [04:23<11:12,  1.90s/it]"
     ]
    },
    {
     "name": "stdout",
     "output_type": "stream",
     "text": [
      "AR too large\n"
     ]
    },
    {
     "name": "stderr",
     "output_type": "stream",
     "text": [
      " 32%|███▏      | 152/472 [05:36<10:02,  1.88s/it]"
     ]
    },
    {
     "name": "stdout",
     "output_type": "stream",
     "text": [
      "AR too large\n"
     ]
    },
    {
     "name": "stderr",
     "output_type": "stream",
     "text": [
      " 81%|████████  | 381/472 [14:20<03:53,  2.56s/it]"
     ]
    },
    {
     "name": "stdout",
     "output_type": "stream",
     "text": [
      "AR too large\n"
     ]
    },
    {
     "name": "stderr",
     "output_type": "stream",
     "text": [
      "100%|██████████| 472/472 [18:01<00:00,  2.24s/it]\n"
     ]
    }
   ],
   "source": [
    "\n",
    "debug = False\n",
    "\n",
    "folderGlob = '/home/rob/HWR/datasets/Aarhus/*lab.jpg'\n",
    "fps = glob(folderGlob)\n",
    "if debug == True:\n",
    "    fps = np.random.permutation(fps)\n",
    "\n",
    "labels_data = []\n",
    "for fp in tqdm(fps):\n",
    "    if debug == True:\n",
    "        fp = '/home/rob/HWR/datasets/zooniverse/222344/Cropped002.jpg'\n",
    "    new_img_size = (480, 640)\n",
    "    squ_size = 7\n",
    "    assert squ_size%2 == 1\n",
    "    max_dist_btw = squ_size*2.4\n",
    "    min_consecutive = 3\n",
    "    min_squ_per_label = 40\n",
    "    threshold = 10\n",
    "    height, width = new_img_size\n",
    "\n",
    "    orig = cv2.imread(fp)\n",
    "    orig_size = orig.shape[:2]\n",
    "    scale = np.array(orig_size) / np.array(new_img_size)\n",
    "    img = cv2.resize(orig, (width, height))\n",
    "    \n",
    "    img = cv2.GaussianBlur(img, (11,11), 3)\n",
    "    sobel_xy = sobel(img, 1, 1, 5)    \n",
    "    \n",
    "    if debug == True:\n",
    "        plt.imshow(img)\n",
    "        plt.figure()\n",
    "        plt.imshow(sobel_xy)\n",
    "\n",
    "    text_coords = get_consecutive_coords_above_threshold(sobel_xy, height, width, squ_size, threshold)\n",
    "    if debug == True:\n",
    "        plot_rectangles(sobel_xy, text_coords)\n",
    "\n",
    "    labels = group_squares_into_labels(text_coords, max_dist_btw, min_squ_per_label)\n",
    "    if debug == True:\n",
    "        plot_rectangles(img, labels, colors=True)\n",
    "    \n",
    "    sobel_y = sobel(img, 0, 1, 3)\n",
    "    sobel_y = cv2.filter2D(img, -1, y_filter)\n",
    "    sobel_y = cv2.cvtColor(sobel_y, cv2.COLOR_BGR2GRAY)\n",
    "    _,sobel_y = cv2.threshold(sobel_y,120,255,cv2.THRESH_BINARY)\n",
    "\n",
    "    \n",
    "    #sobel_y = sobel_y / 255\n",
    "    max_angle = 45\n",
    "    n_angles = 300\n",
    "    pad = 5\n",
    "    \n",
    "    \n",
    "    if debug == True:\n",
    "        plt.figure()\n",
    "        plt.imshow(img)\n",
    "        plt.figure()\n",
    "        plt.imshow(sobel_y)\n",
    "    i = 0\n",
    "    catalog_no = fp.split('/')[6]\n",
    "    for label in labels:\n",
    "        label_data = [catalog_no, i]\n",
    "        \n",
    "        label = np.array(label)\n",
    "        sx = max(label.min(axis=0)[0]-pad,0)\n",
    "        sy = max(label.min(axis=0)[1]-pad,0)\n",
    "        ex = min(label.max(axis=0)[2]+pad,width)\n",
    "        ey = min(label.max(axis=0)[3]+pad,height)\n",
    "        \n",
    "        label_img = sobel_y[sy:ey,sx:ex].copy()\n",
    "        \n",
    "        messy = cv2.cvtColor(label_img, cv2.COLOR_GRAY2BGR).copy()\n",
    "        thetas = []\n",
    "        thres = 150\n",
    "        min_len = 80\n",
    "        max_gap = 20\n",
    "        lines = cv2.HoughLinesP(label_img,1,np.pi/180,thres,300,min_len, max_gap)\n",
    "        while (thres > 0) & (lines is None) & (min_len > 0):\n",
    "            min_len -= 10\n",
    "            thres -= 10\n",
    "            max_gap += 10\n",
    "            lines = cv2.HoughLinesP(label_img,1,np.pi/180,thres,300,min_len, max_gap)\n",
    "            \n",
    "        if lines is None:\n",
    "            lines = []\n",
    "        \n",
    "        for line in lines:\n",
    "            x1,y1,x2,y2 = line[0]\n",
    "            cv2.line(messy,(x1,y1),(x2,y2),(0,255,0),2)\n",
    "            thetas += [np.arctan((y2-y1)/(x2-x1))]\n",
    "        \n",
    "        if len(lines):\n",
    "            best_angle = np.mean(thetas)*180/np.pi\n",
    "        else:\n",
    "            best_angle = 0\n",
    "        \n",
    "        if debug == True:\n",
    "            plt.figure()\n",
    "            plt.imshow(messy)\n",
    "            plt.title(best_angle)    \n",
    "\n",
    "        if debug == True:\n",
    "            sx = int(scale[1]*(sx))\n",
    "            sy = int(scale[0]*(sy))\n",
    "            ex = int(scale[1]*(ex))\n",
    "            ey = int(scale[0]*(ey))\n",
    "            dst = rotate_bound(orig[sy:ey,sx:ex].copy(), best_angle, borderValue=255)\n",
    "            plt.figure()\n",
    "            plt.imshow(dst)\n",
    "            plt.title(str(best_angle))\n",
    "\n",
    "        \n",
    "            \n",
    "\n",
    "        M = cv2.getRotationMatrix2D((0, 0), best_angle, 1.0)\n",
    "        rotated_squs = [np.append(a[:2],[1]) for a in label]\n",
    "        rotated_squs += [np.append(a[2:],[1]) for a in label]\n",
    "        rotated_squs = np.dot(rotated_squs, M.T)\n",
    "        sx = rotated_squs.min(axis=0)[0]\n",
    "        sy = rotated_squs.min(axis=0)[1]\n",
    "        ex = rotated_squs.max(axis=0)[0]\n",
    "        ey = rotated_squs.max(axis=0)[1]\n",
    "        \n",
    "        sx = int(scale[1]*(sx))\n",
    "        sy = int(scale[0]*(sy))\n",
    "        ex = int(scale[1]*(ex))\n",
    "        ey = int(scale[0]*(ey))\n",
    "        \n",
    "        M = cv2.getRotationMatrix2D((0, 0), -best_angle, 1.0)\n",
    "        corners = [[sx,sy,1],[sx,ey,1],[ex,sy,1],[ex,ey,1]]\n",
    "        rotated_corners = np.dot(corners, M.T)\n",
    "        rsx = int(rotated_corners.min(axis=0)[0]) - pad\n",
    "        rsy = int(rotated_corners.min(axis=0)[1]) - pad\n",
    "        rex = int(rotated_corners.max(axis=0)[0]) + pad\n",
    "        rey = int(rotated_corners.max(axis=0)[1]) + pad\n",
    "        label_data += [rsx, rsy, rex, rey]\n",
    "        \n",
    "\n",
    "        x_offset = 0\n",
    "        y_offset = 0\n",
    "        if best_angle < 0:\n",
    "            x_offset = np.abs((orig.shape[0])*np.sin(best_angle*np.pi/180))\n",
    "        elif best_angle > 0: \n",
    "            y_offset = np.abs((orig.shape[1])*np.sin(best_angle*np.pi/180))\n",
    "\n",
    "        dst = rotate_bound(orig, best_angle, borderValue=255)\n",
    "            \n",
    "        nsx = int(sx + x_offset - pad)\n",
    "        nsy = int(sy + y_offset - pad)\n",
    "        nex = int(ex + x_offset + pad)\n",
    "        ney = int(ey + y_offset + pad)\n",
    "        nsx = max(nsx, 0)\n",
    "        nsy = max(nsy, 0)\n",
    "        nex = min(nex, dst.shape[1])\n",
    "        ney = min(ney, dst.shape[0])\n",
    "        nsx, nex = min(nsx, nex), max(nsx, nex)\n",
    "        nsy, ney = min(nsy, ney), max(nsy, ney)\n",
    "        \n",
    "        \n",
    "        aspect_ratio = (nex-nsx)/(ney-nsy)\n",
    "        if aspect_ratio > 10:\n",
    "            print('AR too large')\n",
    "            continue\n",
    "        \n",
    "        \n",
    "        if debug == True:\n",
    "            plt.figure()\n",
    "            plt.imshow(dst[nsy:ney,nsx:nex])\n",
    "        \n",
    "            plt.figure()\n",
    "            plt.imshow(rotate_bound(dst[nsy:ney,nsx:nex],-best_angle,borderValue=255))\n",
    "            plt.title(rotate_bound(dst[nsy:ney,nsx:nex],-best_angle,borderValue=255).shape)\n",
    "        \n",
    "        new_fp = fp.replace('.jpg','label%s.jpg'%i)\n",
    "        _type = np.nan\n",
    "        label_data += [new_fp, best_angle]\n",
    "        if len(pyzbar.decode(dst[nsy:ney,nsx:nex])) | len(pyzbar.decode(cv2.resize(dst[nsy:ney,nsx:nex],(250,100)))):\n",
    "            _type = 'QR Code'\n",
    "        label_data += [_type]\n",
    "        if debug == False:\n",
    "            cv2.imwrite(new_fp, dst[nsy:ney,nsx:nex])\n",
    "        labels_data += [label_data]\n",
    "        i+=1\n",
    "    if debug == True:\n",
    "        break\n"
   ]
  },
  {
   "cell_type": "code",
   "execution_count": 8,
   "metadata": {},
   "outputs": [
    {
     "data": {
      "text/plain": [
       "('/home/rob/HWR/datasets/Aarhus/NHMA-ENT-199083-lab.jpg',\n",
       " array([[[179, 182, 182],\n",
       "         [179, 182, 182],\n",
       "         [179, 182, 182],\n",
       "         ...,\n",
       "         [169, 173, 174],\n",
       "         [169, 173, 174],\n",
       "         [169, 173, 174]],\n",
       " \n",
       "        [[179, 182, 182],\n",
       "         [179, 182, 182],\n",
       "         [179, 182, 182],\n",
       "         ...,\n",
       "         [169, 173, 174],\n",
       "         [169, 173, 174],\n",
       "         [169, 173, 174]],\n",
       " \n",
       "        [[179, 182, 182],\n",
       "         [179, 182, 182],\n",
       "         [179, 182, 182],\n",
       "         ...,\n",
       "         [169, 173, 174],\n",
       "         [169, 173, 174],\n",
       "         [169, 173, 174]],\n",
       " \n",
       "        ...,\n",
       " \n",
       "        [[174, 178, 177],\n",
       "         [174, 178, 177],\n",
       "         [174, 178, 177],\n",
       "         ...,\n",
       "         [174, 173, 176],\n",
       "         [174, 173, 176],\n",
       "         [174, 173, 176]],\n",
       " \n",
       "        [[174, 178, 177],\n",
       "         [174, 178, 177],\n",
       "         [174, 178, 177],\n",
       "         ...,\n",
       "         [174, 173, 176],\n",
       "         [174, 173, 176],\n",
       "         [174, 173, 176]],\n",
       " \n",
       "        [[174, 178, 177],\n",
       "         [174, 178, 177],\n",
       "         [174, 178, 177],\n",
       "         ...,\n",
       "         [174, 173, 176],\n",
       "         [174, 173, 176],\n",
       "         [174, 173, 176]]], dtype=uint8))"
      ]
     },
     "execution_count": 8,
     "metadata": {},
     "output_type": "execute_result"
    }
   ],
   "source": [
    "fp,img,"
   ]
  },
  {
   "cell_type": "code",
   "execution_count": 64,
   "metadata": {},
   "outputs": [
    {
     "ename": "ZeroDivisionError",
     "evalue": "integer division or modulo by zero",
     "output_type": "error",
     "traceback": [
      "\u001b[0;31m---------------------------------------------------------------------------\u001b[0m",
      "\u001b[0;31mZeroDivisionError\u001b[0m                         Traceback (most recent call last)",
      "\u001b[0;32m<ipython-input-64-dc7cc7429ad6>\u001b[0m in \u001b[0;36m<module>\u001b[0;34m\u001b[0m\n\u001b[1;32m      3\u001b[0m \u001b[0m_type\u001b[0m \u001b[0;34m=\u001b[0m \u001b[0mnp\u001b[0m\u001b[0;34m.\u001b[0m\u001b[0mnan\u001b[0m\u001b[0;34m\u001b[0m\u001b[0;34m\u001b[0m\u001b[0m\n\u001b[1;32m      4\u001b[0m \u001b[0mlabel_data\u001b[0m \u001b[0;34m+=\u001b[0m \u001b[0;34m[\u001b[0m\u001b[0mnew_fp\u001b[0m\u001b[0;34m,\u001b[0m \u001b[0mbest_angle\u001b[0m\u001b[0;34m]\u001b[0m\u001b[0;34m\u001b[0m\u001b[0;34m\u001b[0m\u001b[0m\n\u001b[0;32m----> 5\u001b[0;31m \u001b[0;32mif\u001b[0m \u001b[0mlen\u001b[0m\u001b[0;34m(\u001b[0m\u001b[0mpyzbar\u001b[0m\u001b[0;34m.\u001b[0m\u001b[0mdecode\u001b[0m\u001b[0;34m(\u001b[0m\u001b[0mdst\u001b[0m\u001b[0;34m[\u001b[0m\u001b[0mnsy\u001b[0m\u001b[0;34m:\u001b[0m\u001b[0mney\u001b[0m\u001b[0;34m,\u001b[0m\u001b[0mnsx\u001b[0m\u001b[0;34m:\u001b[0m\u001b[0mnex\u001b[0m\u001b[0;34m]\u001b[0m\u001b[0;34m)\u001b[0m\u001b[0;34m)\u001b[0m \u001b[0;34m|\u001b[0m \u001b[0mlen\u001b[0m\u001b[0;34m(\u001b[0m\u001b[0mpyzbar\u001b[0m\u001b[0;34m.\u001b[0m\u001b[0mdecode\u001b[0m\u001b[0;34m(\u001b[0m\u001b[0mcv2\u001b[0m\u001b[0;34m.\u001b[0m\u001b[0mresize\u001b[0m\u001b[0;34m(\u001b[0m\u001b[0mdst\u001b[0m\u001b[0;34m[\u001b[0m\u001b[0mnsy\u001b[0m\u001b[0;34m:\u001b[0m\u001b[0mney\u001b[0m\u001b[0;34m,\u001b[0m\u001b[0mnsx\u001b[0m\u001b[0;34m:\u001b[0m\u001b[0mnex\u001b[0m\u001b[0;34m]\u001b[0m\u001b[0;34m,\u001b[0m\u001b[0;34m(\u001b[0m\u001b[0;36m250\u001b[0m\u001b[0;34m,\u001b[0m\u001b[0;36m100\u001b[0m\u001b[0;34m)\u001b[0m\u001b[0;34m)\u001b[0m\u001b[0;34m)\u001b[0m\u001b[0;34m)\u001b[0m\u001b[0;34m:\u001b[0m\u001b[0;34m\u001b[0m\u001b[0;34m\u001b[0m\u001b[0m\n\u001b[0m\u001b[1;32m      6\u001b[0m     \u001b[0m_type\u001b[0m \u001b[0;34m=\u001b[0m \u001b[0;34m'QR Code'\u001b[0m\u001b[0;34m\u001b[0m\u001b[0;34m\u001b[0m\u001b[0m\n\u001b[1;32m      7\u001b[0m \u001b[0mlabel_data\u001b[0m \u001b[0;34m+=\u001b[0m \u001b[0;34m[\u001b[0m\u001b[0m_type\u001b[0m\u001b[0;34m]\u001b[0m\u001b[0;34m\u001b[0m\u001b[0;34m\u001b[0m\u001b[0m\n",
      "\u001b[0;32m~/anaconda3/envs/hwrtf/lib/python3.6/site-packages/pyzbar/pyzbar.py\u001b[0m in \u001b[0;36mdecode\u001b[0;34m(image, symbols, scan_locations)\u001b[0m\n\u001b[1;32m    178\u001b[0m         \u001b[0;34m:\u001b[0m\u001b[0mobj\u001b[0m\u001b[0;34m:\u001b[0m\u001b[0;31m`\u001b[0m\u001b[0mlist\u001b[0m\u001b[0;31m`\u001b[0m \u001b[0mof\u001b[0m \u001b[0;34m:\u001b[0m\u001b[0mobj\u001b[0m\u001b[0;34m:\u001b[0m\u001b[0;31m`\u001b[0m\u001b[0mDecoded\u001b[0m\u001b[0;31m`\u001b[0m\u001b[0;34m:\u001b[0m \u001b[0mThe\u001b[0m \u001b[0mvalues\u001b[0m \u001b[0mdecoded\u001b[0m \u001b[0;32mfrom\u001b[0m \u001b[0mbarcodes\u001b[0m\u001b[0;34m.\u001b[0m\u001b[0;34m\u001b[0m\u001b[0;34m\u001b[0m\u001b[0m\n\u001b[1;32m    179\u001b[0m     \"\"\"\n\u001b[0;32m--> 180\u001b[0;31m     \u001b[0mpixels\u001b[0m\u001b[0;34m,\u001b[0m \u001b[0mwidth\u001b[0m\u001b[0;34m,\u001b[0m \u001b[0mheight\u001b[0m \u001b[0;34m=\u001b[0m \u001b[0m_pixel_data\u001b[0m\u001b[0;34m(\u001b[0m\u001b[0mimage\u001b[0m\u001b[0;34m)\u001b[0m\u001b[0;34m\u001b[0m\u001b[0;34m\u001b[0m\u001b[0m\n\u001b[0m\u001b[1;32m    181\u001b[0m \u001b[0;34m\u001b[0m\u001b[0m\n\u001b[1;32m    182\u001b[0m     \u001b[0mresults\u001b[0m \u001b[0;34m=\u001b[0m \u001b[0;34m[\u001b[0m\u001b[0;34m]\u001b[0m\u001b[0;34m\u001b[0m\u001b[0;34m\u001b[0m\u001b[0m\n",
      "\u001b[0;32m~/anaconda3/envs/hwrtf/lib/python3.6/site-packages/pyzbar/pyzbar.py\u001b[0m in \u001b[0;36m_pixel_data\u001b[0;34m(image)\u001b[0m\n\u001b[1;32m    154\u001b[0m \u001b[0;34m\u001b[0m\u001b[0m\n\u001b[1;32m    155\u001b[0m     \u001b[0;31m# Compute bits-per-pixel\u001b[0m\u001b[0;34m\u001b[0m\u001b[0;34m\u001b[0m\u001b[0;34m\u001b[0m\u001b[0m\n\u001b[0;32m--> 156\u001b[0;31m     \u001b[0mbpp\u001b[0m \u001b[0;34m=\u001b[0m \u001b[0;36m8\u001b[0m \u001b[0;34m*\u001b[0m \u001b[0mlen\u001b[0m\u001b[0;34m(\u001b[0m\u001b[0mpixels\u001b[0m\u001b[0;34m)\u001b[0m \u001b[0;34m//\u001b[0m \u001b[0;34m(\u001b[0m\u001b[0mwidth\u001b[0m \u001b[0;34m*\u001b[0m \u001b[0mheight\u001b[0m\u001b[0;34m)\u001b[0m\u001b[0;34m\u001b[0m\u001b[0;34m\u001b[0m\u001b[0m\n\u001b[0m\u001b[1;32m    157\u001b[0m     \u001b[0;32mif\u001b[0m \u001b[0;36m8\u001b[0m \u001b[0;34m!=\u001b[0m \u001b[0mbpp\u001b[0m\u001b[0;34m:\u001b[0m\u001b[0;34m\u001b[0m\u001b[0;34m\u001b[0m\u001b[0m\n\u001b[1;32m    158\u001b[0m         raise PyZbarError(\n",
      "\u001b[0;31mZeroDivisionError\u001b[0m: integer division or modulo by zero"
     ]
    }
   ],
   "source": [
    "       \n",
    "new_fp = fp.replace('Cropped','Label').replace('.jpg','%s.jpg'%i)\n",
    "_type = np.nan\n",
    "label_data += [new_fp, best_angle]\n",
    "if len(pyzbar.decode(dst[nsy:ney,nsx:nex])) | len(pyzbar.decode(cv2.resize(dst[nsy:ney,nsx:nex],(250,100)))):\n",
    "    _type = 'QR Code'\n",
    "label_data += [_type]\n",
    "if debug == False:\n",
    "    pass\n",
    "    #cv2.imwrite(new_fp, dst[nsy:ney,nsx:nex])\n",
    "labels_data += [label_data]\n",
    "i+=1"
   ]
  },
  {
   "cell_type": "code",
   "execution_count": 12,
   "metadata": {},
   "outputs": [],
   "source": [
    "import pandas as pd\n",
    "df = pd.DataFrame(labels_data, columns=['catalog_no','id','sx','sy','ex','ey','orig_fp','angle', 'type'])\n",
    "df.to_csv('box coords aarhus.csv')"
   ]
  },
  {
   "cell_type": "code",
   "execution_count": 17,
   "metadata": {},
   "outputs": [
    {
     "data": {
      "text/plain": [
       "'/home/rob/HWR/datasets/Aarhus/NHMA-ENT-199269-lablabel0.jpg'"
      ]
     },
     "execution_count": 17,
     "metadata": {},
     "output_type": "execute_result"
    }
   ],
   "source": [
    "df.iloc[0,6]"
   ]
  },
  {
   "cell_type": "code",
   "execution_count": 47,
   "metadata": {},
   "outputs": [
    {
     "data": {
      "text/plain": [
       "(735, 4)"
      ]
     },
     "execution_count": 47,
     "metadata": {},
     "output_type": "execute_result"
    }
   ],
   "source": [
    "label.shape"
   ]
  },
  {
   "cell_type": "code",
   "execution_count": null,
   "metadata": {},
   "outputs": [],
   "source": []
  }
 ],
 "metadata": {
  "kernelspec": {
   "display_name": "Python 3",
   "language": "python",
   "name": "python3"
  },
  "language_info": {
   "codemirror_mode": {
    "name": "ipython",
    "version": 3
   },
   "file_extension": ".py",
   "mimetype": "text/x-python",
   "name": "python",
   "nbconvert_exporter": "python",
   "pygments_lexer": "ipython3",
   "version": "3.6.7"
  }
 },
 "nbformat": 4,
 "nbformat_minor": 2
}
