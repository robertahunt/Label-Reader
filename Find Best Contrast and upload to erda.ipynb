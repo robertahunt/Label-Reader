{
 "cells": [
  {
   "cell_type": "code",
   "execution_count": 1,
   "metadata": {},
   "outputs": [],
   "source": [
    "import os\n",
    "import cv2\n",
    "import rawpy\n",
    "import pysftp\n",
    "import logging\n",
    "import paramiko\n",
    "import subprocess\n",
    "\n",
    "import numpy as np\n",
    "import pandas as pd\n",
    "import matplotlib.pyplot as plt\n",
    "\n",
    "from tqdm import tqdm\n",
    "from time import sleep\n",
    "from base64 import b64decode\n",
    "\n",
    "#ERDA Settings\n",
    "SFTP_PUBLIC_KEY = \"\"\"AAAAB3NzaC1yc2EAAAADAQABAAABAQC5jIRJYvHM4oiKTd0jvEbDyzToL1RCQiPrDbXHaEjhLaZzLWZ/GmxhdcYWF9VqfgYhbO1Jc6Had/JaxQd6Gq7adrOlWHwiNiuFwcBlDsuf0zha/qup9PZ2Gm21tNmE5OKReEqn5u5O39zHzU5rWOzlaNudeG5HltbZg0NazSSRvamdChU3n2NS2rbjQZq7ERQcaA5+673lqXUJ+7tL39H6am0R02JkJaaXwuffPAG8JcMQUAWl4CVCpu1CgbhsaPBerOARlP5yM+leXtUvy/F+RWVchl6xRtE95LSsh09hD4k6IpQ1Q5V9oZnoroaA1OFP5k/+amUjwqJEiNNR0Mvp\"\"\"\n",
    "ERDA_USERNAME = \"ngw861@alumni.ku.dk\"\n",
    "ERDA_SFTP_PASSWORD = \"C 1T([mRH=P:tUY_:xX!.+6qlPZhPL\"\n",
    "ERDA_HOST = 'io.erda.dk'\n",
    "ERDA_PORT = 22\n",
    "ERDA_FOLDER = 'NHMD_digitization/image_storage'\n",
    "\n",
    "#LOCAL Settings\n",
    "\n",
    "#For storing images immediately after they are taken by the camera\n",
    "#This folder is regularily cleared of all data\n",
    "TEMP_IMAGE_CACHE_PATH = '/IMAGE_CACHE'\n",
    "\n",
    "#This is for keeping a local copy of all the images taken. This\n",
    "# will need to be periodically cleared, but not as often as the cache\n",
    "LOCAL_IMAGE_STORAGE_PATH = '/IMAGE_STORAGE'\n",
    "\n",
    "\n",
    "class ERDA():\n",
    "    def __init__(self):\n",
    "        self.sftp = self.connectSFTP()\n",
    "        \n",
    "    def connectSFTP(self):\n",
    "        key = paramiko.RSAKey(data=b64decode(SFTP_PUBLIC_KEY))\n",
    "        cnopts = pysftp.CnOpts()\n",
    "        cnopts.hostkeys.add(ERDA_HOST, 'ssh-rsa', key)\n",
    "        \n",
    "        sftp = pysftp.Connection(host=ERDA_HOST, username=ERDA_USERNAME, \n",
    "                                 password=ERDA_SFTP_PASSWORD, cnopts=cnopts)\n",
    "        return sftp\n",
    "    \n",
    "    def upload(self, localPath, remotePath):\n",
    "        self.sftp.put(localPath, remotePath)\n",
    "        \n",
    "    def download(self, remotePath, localPath):\n",
    "        self.sftp.get(remotePath, localpath = localPath)\n",
    "    \n",
    "    def getFiles(self, folder):\n",
    "        return self.sftp.listdir(folder)\n",
    "    \n",
    "    def checkUploaded(self, erdaPath, cachePath):\n",
    "        erdaFolder = '/'.join(erdaPath.split('/')[:-1])\n",
    "        files = self.getFiles(erdaFolder)\n",
    "        cacheFile = cachePath.split('/')[-1]\n",
    "        \n",
    "        if cacheFile in files:\n",
    "            logging.info('ERDA Upload okay for %s'%cacheFile)\n",
    "            return True\n",
    "        else:\n",
    "            logging.info('Something messed up %s '%cacheFile)\n",
    "            return False\n",
    "    \n",
    "    def close(self):\n",
    "        self.sftp.close()\n",
    "        \n",
    "\n",
    "def getFiles(folder):\n",
    "    return os.listdir(folder)\n",
    "    \n",
    "def createTiff(arwPath):\n",
    "    name = arwPath.split('/')[-1].split('.')[0]\n",
    "    tiffFile = name + '.tiff'\n",
    "    tiffPath = os.path.join(CACHE_FOLDER, tiffFile)\n",
    "   \n",
    "    subprocess.check_output(['sips', '-s','format','tiff', arwPath, '--out', tiffPath])\n",
    "    return tiffPath\n",
    "    \n",
    "def getARWFiles(folder):\n",
    "    ARWFiles = [f for f in getFiles(folder) if f.endswith('.arw')]\n",
    "    if len(ARWFiles):\n",
    "        paths = [os.path.join(folder, image) for image in ARWFiles]\n",
    "        paths.sort(key=os.path.getctime)\n",
    "        return [path.split('/')[-1] for path in paths]\n",
    "    else:\n",
    "        return '', ''\n",
    "\n",
    "    \n",
    "def deleteFile(_file):\n",
    "    return os.remove(_file)"
   ]
  },
  {
   "cell_type": "code",
   "execution_count": 2,
   "metadata": {},
   "outputs": [],
   "source": [
    "def deleteFilesfromDump():\n",
    "    local_files = getFiles('/home/rob/HWR/DUMP/')\n",
    "    for local_file in local_files:\n",
    "        if (not local_file.endswith('.arw')) & (not local_file.endswith('.DS_Store')):\n",
    "            path = os.path.join('/home/rob/HWR/DUMP/', local_file)\n",
    "            deleteFile(path)"
   ]
  },
  {
   "cell_type": "code",
   "execution_count": 3,
   "metadata": {},
   "outputs": [
    {
     "name": "stderr",
     "output_type": "stream",
     "text": [
      "/home/rob/anaconda3/envs/hwrtf/lib/python3.6/site-packages/pysftp/__init__.py:61: UserWarning: Failed to load HostKeys from /home/rob/.ssh/known_hosts.  You will need to explicitly load HostKeys (cnopts.hostkeys.load(filename)) or disableHostKey checking (cnopts.hostkeys = None).\n",
      "  warnings.warn(wmsg, UserWarning)\n"
     ]
    }
   ],
   "source": [
    "\n",
    "erda = ERDA()\n",
    "\n",
    "erda_files = erda.getFiles(ERDA_FOLDER)\n",
    "already_uploaded = erda.getFiles('alcon image analysis/Images of SNM specimens/Upper Surfaces')\n",
    "already_uploaded += erda.getFiles('alcon image analysis/Images of SNM specimens/Lower Surfaces')\n",
    "erda.close()"
   ]
  },
  {
   "cell_type": "code",
   "execution_count": null,
   "metadata": {
    "scrolled": true
   },
   "outputs": [
    {
     "name": "stdout",
     "output_type": "stream",
     "text": [
      "5881\n",
      "5227\n"
     ]
    }
   ],
   "source": [
    "files = [file for file in erda_files if file.endswith('.arw')]\n",
    "files = [file for file in files if len(file.split('_')) == 6]\n",
    "df = pd.DataFrame(files,columns=['fn'])\n",
    "df['cat_no'] = df['fn'].map(lambda x: x.split('_')[0].split('-')[1])\n",
    "df['side'] = df['fn'].map(lambda x: x.split('_')[1])\n",
    "df['date'] = df['fn'].map(lambda x: x.split('_')[2])\n",
    "df['time'] = df['fn'].map(lambda x: x.split('_')[3])\n",
    "df['suffix'] = df['fn'].map(lambda x: x.split('_')[5])\n",
    "df['key'] = df['fn'].map(lambda x: '_'.join(x.split('_')[:-2]))\n",
    "ph = df[df['cat_no'].map(lambda x: x.startswith('22'))]\n",
    "already_uploaded_keys = ['_'.join(fn.split('_')[:-1]) for fn in already_uploaded]\n",
    "print(len(ph))\n",
    "for key in already_uploaded_keys:\n",
    "    ph = ph[ph['key']!= key]\n",
    "print(len(ph))"
   ]
  },
  {
   "cell_type": "code",
   "execution_count": 69,
   "metadata": {},
   "outputs": [],
   "source": [
    "erda.close()"
   ]
  },
  {
   "cell_type": "code",
   "execution_count": null,
   "metadata": {},
   "outputs": [
    {
     "name": "stderr",
     "output_type": "stream",
     "text": [
      "  2%|▏         | 19/872 [4:13:06<198:15:11, 836.71s/it]"
     ]
    }
   ],
   "source": [
    "erda = ERDA()\n",
    "deleteFilesfromDump()\n",
    "local_folder = '/home/rob/HWR/DUMP/'\n",
    "for key,group in tqdm(ph.groupby('key')):\n",
    "    for ix,row in group.iterrows():\n",
    "        localPath = local_folder + row['suffix']\n",
    "        remotePath = 'NHMD_digitization/image_storage/' + row['fn']\n",
    "        erda.download(remotePath,localPath)\n",
    "    \n",
    "    stack = getFiles(local_folder)\n",
    "    if len(stack) != 6:\n",
    "        print('wtf')\n",
    "        #break\n",
    "    sx = 2500\n",
    "    ex = 4800\n",
    "    sy = 2500\n",
    "    ey = 4000\n",
    "    variances = []\n",
    "    for file in stack:\n",
    "        localPath = local_folder + file\n",
    "        with rawpy.imread(localPath) as raw:\n",
    "            img = raw.postprocess()[sy:ey,sx:ex]\n",
    "            variances += [cv2.Laplacian(img, cv2.CV_64F).var()]\n",
    "    fileWithMostContrast = stack[np.argmax(variances)]\n",
    "    remote_folder = 'Upper Surfaces' if row['side'] == 'D' else 'Lower Surfaces'\n",
    "    remotePath = 'alcon image analysis/Images of SNM specimens/' + remote_folder + '/' + row['key'] + '_' + fileWithMostContrast\n",
    "    localPath = local_folder + fileWithMostContrast\n",
    "    erda.upload(localPath,remotePath)\n",
    "erda.close()"
   ]
  },
  {
   "cell_type": "code",
   "execution_count": 80,
   "metadata": {
    "scrolled": true
   },
   "outputs": [
    {
     "data": {
      "text/plain": [
       "('NHMD_digitization/image_storage/NHMD-227369_D_20181016_110025_0.arw',\n",
       " 'alcon image analysis/Images of SNM specimens/Upper Surfaces/NHMD-227369_D_20181016_110025_0.arw')"
      ]
     },
     "execution_count": 80,
     "metadata": {},
     "output_type": "execute_result"
    }
   ],
   "source": [
    "aPath = 'NHMD_digitization/image_storage/' + row['key'] + '_' + fileWithMostContrast   \n",
    "aPath, remotePath"
   ]
  },
  {
   "cell_type": "code",
   "execution_count": 83,
   "metadata": {},
   "outputs": [
    {
     "ename": "KeyboardInterrupt",
     "evalue": "",
     "output_type": "error",
     "traceback": [
      "\u001b[0;31m---------------------------------------------------------------------------\u001b[0m",
      "\u001b[0;31mKeyboardInterrupt\u001b[0m                         Traceback (most recent call last)",
      "\u001b[0;32m<ipython-input-83-b5636354f4dc>\u001b[0m in \u001b[0;36m<module>\u001b[0;34m\u001b[0m\n\u001b[1;32m      1\u001b[0m \u001b[0merda\u001b[0m \u001b[0;34m=\u001b[0m \u001b[0mERDA\u001b[0m\u001b[0;34m(\u001b[0m\u001b[0;34m)\u001b[0m\u001b[0;34m\u001b[0m\u001b[0m\n\u001b[0;32m----> 2\u001b[0;31m \u001b[0merda\u001b[0m\u001b[0;34m.\u001b[0m\u001b[0msftp\u001b[0m\u001b[0;34m.\u001b[0m\u001b[0mexecute\u001b[0m\u001b[0;34m(\u001b[0m\u001b[0;34m'cp %s %s'\u001b[0m\u001b[0;34m%\u001b[0m\u001b[0;34m(\u001b[0m\u001b[0maPath\u001b[0m\u001b[0;34m,\u001b[0m \u001b[0mremotePath\u001b[0m\u001b[0;34m)\u001b[0m\u001b[0;34m)\u001b[0m\u001b[0;34m\u001b[0m\u001b[0m\n\u001b[0m",
      "\u001b[0;32m~/anaconda3/envs/hwrtf/lib/python3.6/site-packages/pysftp/__init__.py\u001b[0m in \u001b[0;36mexecute\u001b[0;34m(self, command)\u001b[0m\n\u001b[1;32m    487\u001b[0m         \u001b[0mchannel\u001b[0m \u001b[0;34m=\u001b[0m \u001b[0mself\u001b[0m\u001b[0;34m.\u001b[0m\u001b[0m_transport\u001b[0m\u001b[0;34m.\u001b[0m\u001b[0mopen_session\u001b[0m\u001b[0;34m(\u001b[0m\u001b[0;34m)\u001b[0m\u001b[0;34m\u001b[0m\u001b[0m\n\u001b[1;32m    488\u001b[0m         \u001b[0mchannel\u001b[0m\u001b[0;34m.\u001b[0m\u001b[0mexec_command\u001b[0m\u001b[0;34m(\u001b[0m\u001b[0mcommand\u001b[0m\u001b[0;34m)\u001b[0m\u001b[0;34m\u001b[0m\u001b[0m\n\u001b[0;32m--> 489\u001b[0;31m         \u001b[0moutput\u001b[0m \u001b[0;34m=\u001b[0m \u001b[0mchannel\u001b[0m\u001b[0;34m.\u001b[0m\u001b[0mmakefile\u001b[0m\u001b[0;34m(\u001b[0m\u001b[0;34m'rb'\u001b[0m\u001b[0;34m,\u001b[0m \u001b[0;34m-\u001b[0m\u001b[0;36m1\u001b[0m\u001b[0;34m)\u001b[0m\u001b[0;34m.\u001b[0m\u001b[0mreadlines\u001b[0m\u001b[0;34m(\u001b[0m\u001b[0;34m)\u001b[0m\u001b[0;34m\u001b[0m\u001b[0m\n\u001b[0m\u001b[1;32m    490\u001b[0m         \u001b[0;32mif\u001b[0m \u001b[0moutput\u001b[0m\u001b[0;34m:\u001b[0m\u001b[0;34m\u001b[0m\u001b[0m\n\u001b[1;32m    491\u001b[0m             \u001b[0;32mreturn\u001b[0m \u001b[0moutput\u001b[0m\u001b[0;34m\u001b[0m\u001b[0m\n",
      "\u001b[0;32m~/anaconda3/envs/hwrtf/lib/python3.6/site-packages/paramiko/file.py\u001b[0m in \u001b[0;36mreadlines\u001b[0;34m(self, sizehint)\u001b[0m\n\u001b[1;32m    347\u001b[0m         \u001b[0mbyte_count\u001b[0m \u001b[0;34m=\u001b[0m \u001b[0;36m0\u001b[0m\u001b[0;34m\u001b[0m\u001b[0m\n\u001b[1;32m    348\u001b[0m         \u001b[0;32mwhile\u001b[0m \u001b[0;32mTrue\u001b[0m\u001b[0;34m:\u001b[0m\u001b[0;34m\u001b[0m\u001b[0m\n\u001b[0;32m--> 349\u001b[0;31m             \u001b[0mline\u001b[0m \u001b[0;34m=\u001b[0m \u001b[0mself\u001b[0m\u001b[0;34m.\u001b[0m\u001b[0mreadline\u001b[0m\u001b[0;34m(\u001b[0m\u001b[0;34m)\u001b[0m\u001b[0;34m\u001b[0m\u001b[0m\n\u001b[0m\u001b[1;32m    350\u001b[0m             \u001b[0;32mif\u001b[0m \u001b[0mlen\u001b[0m\u001b[0;34m(\u001b[0m\u001b[0mline\u001b[0m\u001b[0;34m)\u001b[0m \u001b[0;34m==\u001b[0m \u001b[0;36m0\u001b[0m\u001b[0;34m:\u001b[0m\u001b[0;34m\u001b[0m\u001b[0m\n\u001b[1;32m    351\u001b[0m                 \u001b[0;32mbreak\u001b[0m\u001b[0;34m\u001b[0m\u001b[0m\n",
      "\u001b[0;32m~/anaconda3/envs/hwrtf/lib/python3.6/site-packages/paramiko/file.py\u001b[0m in \u001b[0;36mreadline\u001b[0;34m(self, size)\u001b[0m\n\u001b[1;32m    289\u001b[0m                 \u001b[0;32mbreak\u001b[0m\u001b[0;34m\u001b[0m\u001b[0m\n\u001b[1;32m    290\u001b[0m             \u001b[0;32mtry\u001b[0m\u001b[0;34m:\u001b[0m\u001b[0;34m\u001b[0m\u001b[0m\n\u001b[0;32m--> 291\u001b[0;31m                 \u001b[0mnew_data\u001b[0m \u001b[0;34m=\u001b[0m \u001b[0mself\u001b[0m\u001b[0;34m.\u001b[0m\u001b[0m_read\u001b[0m\u001b[0;34m(\u001b[0m\u001b[0mn\u001b[0m\u001b[0;34m)\u001b[0m\u001b[0;34m\u001b[0m\u001b[0m\n\u001b[0m\u001b[1;32m    292\u001b[0m             \u001b[0;32mexcept\u001b[0m \u001b[0mEOFError\u001b[0m\u001b[0;34m:\u001b[0m\u001b[0;34m\u001b[0m\u001b[0m\n\u001b[1;32m    293\u001b[0m                 \u001b[0mnew_data\u001b[0m \u001b[0;34m=\u001b[0m \u001b[0;32mNone\u001b[0m\u001b[0;34m\u001b[0m\u001b[0m\n",
      "\u001b[0;32m~/anaconda3/envs/hwrtf/lib/python3.6/site-packages/paramiko/channel.py\u001b[0m in \u001b[0;36m_read\u001b[0;34m(self, size)\u001b[0m\n\u001b[1;32m   1341\u001b[0m \u001b[0;34m\u001b[0m\u001b[0m\n\u001b[1;32m   1342\u001b[0m     \u001b[0;32mdef\u001b[0m \u001b[0m_read\u001b[0m\u001b[0;34m(\u001b[0m\u001b[0mself\u001b[0m\u001b[0;34m,\u001b[0m \u001b[0msize\u001b[0m\u001b[0;34m)\u001b[0m\u001b[0;34m:\u001b[0m\u001b[0;34m\u001b[0m\u001b[0m\n\u001b[0;32m-> 1343\u001b[0;31m         \u001b[0;32mreturn\u001b[0m \u001b[0mself\u001b[0m\u001b[0;34m.\u001b[0m\u001b[0mchannel\u001b[0m\u001b[0;34m.\u001b[0m\u001b[0mrecv\u001b[0m\u001b[0;34m(\u001b[0m\u001b[0msize\u001b[0m\u001b[0;34m)\u001b[0m\u001b[0;34m\u001b[0m\u001b[0m\n\u001b[0m\u001b[1;32m   1344\u001b[0m \u001b[0;34m\u001b[0m\u001b[0m\n\u001b[1;32m   1345\u001b[0m     \u001b[0;32mdef\u001b[0m \u001b[0m_write\u001b[0m\u001b[0;34m(\u001b[0m\u001b[0mself\u001b[0m\u001b[0;34m,\u001b[0m \u001b[0mdata\u001b[0m\u001b[0;34m)\u001b[0m\u001b[0;34m:\u001b[0m\u001b[0;34m\u001b[0m\u001b[0m\n",
      "\u001b[0;32m~/anaconda3/envs/hwrtf/lib/python3.6/site-packages/paramiko/channel.py\u001b[0m in \u001b[0;36mrecv\u001b[0;34m(self, nbytes)\u001b[0m\n\u001b[1;32m    697\u001b[0m         \"\"\"\n\u001b[1;32m    698\u001b[0m         \u001b[0;32mtry\u001b[0m\u001b[0;34m:\u001b[0m\u001b[0;34m\u001b[0m\u001b[0m\n\u001b[0;32m--> 699\u001b[0;31m             \u001b[0mout\u001b[0m \u001b[0;34m=\u001b[0m \u001b[0mself\u001b[0m\u001b[0;34m.\u001b[0m\u001b[0min_buffer\u001b[0m\u001b[0;34m.\u001b[0m\u001b[0mread\u001b[0m\u001b[0;34m(\u001b[0m\u001b[0mnbytes\u001b[0m\u001b[0;34m,\u001b[0m \u001b[0mself\u001b[0m\u001b[0;34m.\u001b[0m\u001b[0mtimeout\u001b[0m\u001b[0;34m)\u001b[0m\u001b[0;34m\u001b[0m\u001b[0m\n\u001b[0m\u001b[1;32m    700\u001b[0m         \u001b[0;32mexcept\u001b[0m \u001b[0mPipeTimeout\u001b[0m\u001b[0;34m:\u001b[0m\u001b[0;34m\u001b[0m\u001b[0m\n\u001b[1;32m    701\u001b[0m             \u001b[0;32mraise\u001b[0m \u001b[0msocket\u001b[0m\u001b[0;34m.\u001b[0m\u001b[0mtimeout\u001b[0m\u001b[0;34m(\u001b[0m\u001b[0;34m)\u001b[0m\u001b[0;34m\u001b[0m\u001b[0m\n",
      "\u001b[0;32m~/anaconda3/envs/hwrtf/lib/python3.6/site-packages/paramiko/buffered_pipe.py\u001b[0m in \u001b[0;36mread\u001b[0;34m(self, nbytes, timeout)\u001b[0m\n\u001b[1;32m    158\u001b[0m                 \u001b[0;32mwhile\u001b[0m \u001b[0;34m(\u001b[0m\u001b[0mlen\u001b[0m\u001b[0;34m(\u001b[0m\u001b[0mself\u001b[0m\u001b[0;34m.\u001b[0m\u001b[0m_buffer\u001b[0m\u001b[0;34m)\u001b[0m \u001b[0;34m==\u001b[0m \u001b[0;36m0\u001b[0m\u001b[0;34m)\u001b[0m \u001b[0;32mand\u001b[0m \u001b[0;32mnot\u001b[0m \u001b[0mself\u001b[0m\u001b[0;34m.\u001b[0m\u001b[0m_closed\u001b[0m\u001b[0;34m:\u001b[0m\u001b[0;34m\u001b[0m\u001b[0m\n\u001b[1;32m    159\u001b[0m                     \u001b[0mthen\u001b[0m \u001b[0;34m=\u001b[0m \u001b[0mtime\u001b[0m\u001b[0;34m.\u001b[0m\u001b[0mtime\u001b[0m\u001b[0;34m(\u001b[0m\u001b[0;34m)\u001b[0m\u001b[0;34m\u001b[0m\u001b[0m\n\u001b[0;32m--> 160\u001b[0;31m                     \u001b[0mself\u001b[0m\u001b[0;34m.\u001b[0m\u001b[0m_cv\u001b[0m\u001b[0;34m.\u001b[0m\u001b[0mwait\u001b[0m\u001b[0;34m(\u001b[0m\u001b[0mtimeout\u001b[0m\u001b[0;34m)\u001b[0m\u001b[0;34m\u001b[0m\u001b[0m\n\u001b[0m\u001b[1;32m    161\u001b[0m                     \u001b[0;32mif\u001b[0m \u001b[0mtimeout\u001b[0m \u001b[0;32mis\u001b[0m \u001b[0;32mnot\u001b[0m \u001b[0;32mNone\u001b[0m\u001b[0;34m:\u001b[0m\u001b[0;34m\u001b[0m\u001b[0m\n\u001b[1;32m    162\u001b[0m                         \u001b[0mtimeout\u001b[0m \u001b[0;34m-=\u001b[0m \u001b[0mtime\u001b[0m\u001b[0;34m.\u001b[0m\u001b[0mtime\u001b[0m\u001b[0;34m(\u001b[0m\u001b[0;34m)\u001b[0m \u001b[0;34m-\u001b[0m \u001b[0mthen\u001b[0m\u001b[0;34m\u001b[0m\u001b[0m\n",
      "\u001b[0;32m~/anaconda3/envs/hwrtf/lib/python3.6/threading.py\u001b[0m in \u001b[0;36mwait\u001b[0;34m(self, timeout)\u001b[0m\n\u001b[1;32m    293\u001b[0m         \u001b[0;32mtry\u001b[0m\u001b[0;34m:\u001b[0m    \u001b[0;31m# restore state no matter what (e.g., KeyboardInterrupt)\u001b[0m\u001b[0;34m\u001b[0m\u001b[0m\n\u001b[1;32m    294\u001b[0m             \u001b[0;32mif\u001b[0m \u001b[0mtimeout\u001b[0m \u001b[0;32mis\u001b[0m \u001b[0;32mNone\u001b[0m\u001b[0;34m:\u001b[0m\u001b[0;34m\u001b[0m\u001b[0m\n\u001b[0;32m--> 295\u001b[0;31m                 \u001b[0mwaiter\u001b[0m\u001b[0;34m.\u001b[0m\u001b[0macquire\u001b[0m\u001b[0;34m(\u001b[0m\u001b[0;34m)\u001b[0m\u001b[0;34m\u001b[0m\u001b[0m\n\u001b[0m\u001b[1;32m    296\u001b[0m                 \u001b[0mgotit\u001b[0m \u001b[0;34m=\u001b[0m \u001b[0;32mTrue\u001b[0m\u001b[0;34m\u001b[0m\u001b[0m\n\u001b[1;32m    297\u001b[0m             \u001b[0;32melse\u001b[0m\u001b[0;34m:\u001b[0m\u001b[0;34m\u001b[0m\u001b[0m\n",
      "\u001b[0;31mKeyboardInterrupt\u001b[0m: "
     ]
    }
   ],
   "source": [
    "erda = ERDA()\n",
    "erda.sftp.execute('cp %s %s'%(aPath, remotePath))"
   ]
  },
  {
   "cell_type": "code",
   "execution_count": null,
   "metadata": {},
   "outputs": [],
   "source": [
    "    for local_file in local_files:\n",
    "        arwCachePath = os.path.join(CACHE_FOLDER, local_file)\n",
    "        tiffCachePath = createTiff(arwCachePath)\n",
    "        tiff_name = tiffCachePath.split('/')[-1]\n",
    "\n",
    "        arwLocalPath = os.path.join(STORAGE_FOLDER, local_file)\n",
    "        tiffLocalPath = os.path.join(STORAGE_FOLDER, tiff_name)\n",
    "\n",
    "        arwERDAPath = os.path.join(ERDA_FOLDER, local_file)\n",
    "        tiffERDAPath = os.path.join(ERDA_FOLDER, tiff_name)\n",
    "\n",
    "        erda.upload(tiffCachePath, tiffERDAPath)\n",
    "        uploadedTiff = erda.checkUploaded(tiffERDAPath, tiffCachePath)\n",
    "\n",
    "        erda.upload(arwCachePath, arwERDAPath)\n",
    "        uploadedARW = erda.checkUploaded(arwERDAPath, arwCachePath)\n",
    "\n",
    "        if uploadedARW & uploadedTiff:\n",
    "            deleteFile(arwCachePath)\n",
    "            deleteFile(tiffCachePath)\n",
    "\n",
    "    erda.close()"
   ]
  },
  {
   "cell_type": "code",
   "execution_count": null,
   "metadata": {},
   "outputs": [],
   "source": []
  }
 ],
 "metadata": {
  "kernelspec": {
   "display_name": "Python 3",
   "language": "python",
   "name": "python3"
  },
  "language_info": {
   "codemirror_mode": {
    "name": "ipython",
    "version": 3
   },
   "file_extension": ".py",
   "mimetype": "text/x-python",
   "name": "python",
   "nbconvert_exporter": "python",
   "pygments_lexer": "ipython3",
   "version": "3.6.6"
  }
 },
 "nbformat": 4,
 "nbformat_minor": 2
}
